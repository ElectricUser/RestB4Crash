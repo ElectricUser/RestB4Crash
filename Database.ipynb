{
 "cells": [
  {
   "cell_type": "markdown",
   "id": "4f1a737c",
   "metadata": {},
   "source": [
    "# Database"
   ]
  },
  {
   "cell_type": "markdown",
   "id": "bb905d20",
   "metadata": {},
   "source": [
    "## Libraries and Imports"
   ]
  },
  {
   "cell_type": "code",
   "execution_count": 7,
   "id": "0d06de51",
   "metadata": {
    "ExecuteTime": {
     "end_time": "2023-06-15T21:46:52.941451400Z",
     "start_time": "2023-06-15T21:46:52.908674Z"
    }
   },
   "outputs": [],
   "source": [
    "#!pip install mysql-connector-python"
   ]
  },
  {
   "cell_type": "code",
   "execution_count": 8,
   "id": "2580e7e6",
   "metadata": {
    "ExecuteTime": {
     "end_time": "2023-06-15T21:46:52.991184900Z",
     "start_time": "2023-06-15T21:46:52.923136200Z"
    }
   },
   "outputs": [],
   "source": [
    "from getpass import getpass\n",
    "from mysql.connector import connect, Error"
   ]
  },
  {
   "cell_type": "markdown",
   "id": "859a237f",
   "metadata": {},
   "source": [
    "### Database Creation"
   ]
  },
  {
   "cell_type": "code",
   "execution_count": 9,
   "id": "9c653406",
   "metadata": {
    "ExecuteTime": {
     "end_time": "2023-06-15T21:46:58.951755400Z",
     "start_time": "2023-06-15T21:46:52.936075100Z"
    }
   },
   "outputs": [
    {
     "name": "stdout",
     "output_type": "stream",
     "text": [
      "<mysql.connector.connection_cext.CMySQLConnection object at 0x00000200C7969D90>\n"
     ]
    }
   ],
   "source": [
    "# Establishes a connection to the MySQL database.\n",
    "try:\n",
    "    with connect(\n",
    "        host=\"localhost\",\n",
    "        user=input(\"Enter username: \"),\n",
    "        password=getpass(\"Enter password: \"),\n",
    "        autocommit=True,\n",
    "    ) as connection:\n",
    "        print(connection)\n",
    "except Error as e:\n",
    "    print(e)"
   ]
  },
  {
   "cell_type": "code",
   "execution_count": 10,
   "id": "07edbe46",
   "metadata": {
    "ExecuteTime": {
     "end_time": "2023-06-15T21:46:58.952780200Z",
     "start_time": "2023-06-15T21:46:58.939608800Z"
    }
   },
   "outputs": [],
   "source": [
    "# Makes the connection to the MySQL database.\n",
    "connection.connect()"
   ]
  },
  {
   "cell_type": "code",
   "execution_count": 11,
   "id": "275e2ef3",
   "metadata": {
    "ExecuteTime": {
     "end_time": "2023-06-15T21:46:59.010031800Z",
     "start_time": "2023-06-15T21:46:58.955500500Z"
    }
   },
   "outputs": [],
   "source": [
    "# Created a cursor to execute SQL commands.\n",
    "mycursor = connection.cursor(buffered=True)\n",
    "\n",
    "# This line should be uncommented the first time the notebook is run, to create the database.\n",
    "# mycursor.execute(\"create database challenge4\")\n",
    "mycursor.execute(\"use challenge4\")"
   ]
  },
  {
   "cell_type": "code",
   "execution_count": 12,
   "id": "eb992796",
   "metadata": {
    "ExecuteTime": {
     "end_time": "2023-06-15T21:46:59.020526900Z",
     "start_time": "2023-06-15T21:46:58.969577500Z"
    }
   },
   "outputs": [],
   "source": [
    "# Creating the tasks table.\n",
    "create_tasks_table_query = \"\"\"\n",
    "create table tasks(\n",
    "    taskID INT AUTO_INCREMENT PRIMARY KEY, -- TaskID\n",
    "    priority INT, -- Priority of the task - Number between 1 (lower priority) and 5 (higher priority)\n",
    "    difficulty INT, -- Difficulty of the task - Fibonacci Sequence (1, 2, 3, 5, 8, 13)\n",
    "    time INT, -- Time to conclude the task\n",
    "    constraint priority CHECK (priority BETWEEN 1 AND 5),\n",
    "    constraint difficulty CHECK (difficulty IN (1, 2, 3, 5, 8, 13))\n",
    ")\n",
    "\"\"\"\n",
    "mycursor.execute(create_tasks_table_query)"
   ]
  },
  {
   "cell_type": "code",
   "execution_count": 13,
   "outputs": [],
   "source": [
    "# Creating the employees table.\n",
    "create_employees_table_query = \"\"\"\n",
    "create table employees(\n",
    "    id INT AUTO_INCREMENT PRIMARY KEY, -- EmployeeID\n",
    "    name VARCHAR(255), -- Name of the employee\n",
    "    task_id INT, -- The task the employee is performing\n",
    "    FOREIGN KEY (id) REFERENCES tasks (taskID)\n",
    ")\n",
    "\"\"\"\n",
    "mycursor.execute(create_employees_table_query)"
   ],
   "metadata": {
    "collapsed": false,
    "ExecuteTime": {
     "end_time": "2023-06-15T21:46:59.057027300Z",
     "start_time": "2023-06-15T21:46:59.001053Z"
    }
   }
  },
  {
   "cell_type": "code",
   "execution_count": 14,
   "id": "aa45aff9",
   "metadata": {
    "ExecuteTime": {
     "end_time": "2023-06-15T21:46:59.088874300Z",
     "start_time": "2023-06-15T21:46:59.033784800Z"
    }
   },
   "outputs": [],
   "source": [
    "populate_tasks_table_query = \"\"\"\n",
    "insert into tasks (priority, difficulty, time)\n",
    "values \n",
    "\t(2, 1, 2),\n",
    "    (1, 5, 6),\n",
    "    (4, 1, 1),\n",
    "    (5, 13, 2),\n",
    "    (3, 3, 3),\n",
    "    (1, 1, 1),\n",
    "    (3, 2, 4),\n",
    "    (2, 1, 3),\n",
    "    (1, 8, 5),\n",
    "    (2, 3, 7),\n",
    "    (4, 8, 8),\n",
    "    (1, 3, 2),\n",
    "    (3, 5, 2),\n",
    "    (1, 1, 1),\n",
    "    (1, 13, 1),\n",
    "    (4, 8, 6),\n",
    "    (3, 5, 3),\n",
    "    (5, 2, 2),\n",
    "    (5, 3, 4),\n",
    "    (1, 1, 5),\n",
    "    (2, 2, 7),\n",
    "    (4, 5, 8),\n",
    "    (3, 5, 2),\n",
    "    (1, 3, 5),\n",
    "    (1, 5, 8), \n",
    "    (3, 3, 6),\n",
    "    (1, 1, 4),\n",
    "    (1, 13, 2),\n",
    "    (2, 8, 3),\n",
    "    (4, 2, 1),\n",
    "    (3, 8, 2),\n",
    "    (2, 2, 4),\n",
    "    (3, 2, 1),\n",
    "    (4, 5, 2),\n",
    "    (5, 13, 2),\n",
    "    (5, 2, 7),\n",
    "    (2, 5, 4),\n",
    "    (4, 1, 5),\n",
    "    (1, 1, 3),\n",
    "    (1, 8, 2),\n",
    "    (3, 3, 6),\n",
    "    (2, 5, 1),\n",
    "    (5, 2, 4),\n",
    "    (2, 3, 5),\n",
    "    (5, 5, 2),\n",
    "    (3, 2, 4),\n",
    "    (2, 1, 3),\n",
    "    (2, 8, 1),\n",
    "    (5, 5, 5),\n",
    "    (1, 2, 3)\"\"\"\n",
    "mycursor.execute(populate_tasks_table_query)"
   ]
  },
  {
   "cell_type": "code",
   "execution_count": 15,
   "outputs": [],
   "source": [
    "populate_employee_table_query = \"\"\"\n",
    "insert into employees (name, task_id)\n",
    "values\n",
    "\t(\"Catarina\", 1),\n",
    "    (\"Maria\", 2),\n",
    "    (\"João\", 3),\n",
    "    (\"Renato\", 4),\n",
    "    (\"Marcelo\", 5)\n",
    "\"\"\"\n",
    "mycursor.execute(populate_employee_table_query)"
   ],
   "metadata": {
    "collapsed": false,
    "ExecuteTime": {
     "end_time": "2023-06-15T21:46:59.088874300Z",
     "start_time": "2023-06-15T21:46:59.057531100Z"
    }
   }
  },
  {
   "cell_type": "code",
   "execution_count": 16,
   "id": "5f4a17e4",
   "metadata": {
    "ExecuteTime": {
     "end_time": "2023-06-15T21:46:59.089842Z",
     "start_time": "2023-06-15T21:46:59.065210300Z"
    }
   },
   "outputs": [
    {
     "name": "stdout",
     "output_type": "stream",
     "text": [
      "Tasks table:\n",
      "[(1, 2, 1, 2), (2, 1, 5, 6), (3, 4, 1, 1), (4, 5, 13, 2), (5, 3, 3, 3), (6, 1, 1, 1), (7, 3, 2, 4), (8, 2, 1, 3), (9, 1, 8, 5), (10, 2, 3, 7), (11, 4, 8, 8), (12, 1, 3, 2), (13, 3, 5, 2), (14, 1, 1, 1), (15, 1, 13, 1), (16, 4, 8, 6), (17, 3, 5, 3), (18, 5, 2, 2), (19, 5, 3, 4), (20, 1, 1, 5), (21, 2, 2, 7), (22, 4, 5, 8), (23, 3, 5, 2), (24, 1, 3, 5), (25, 1, 5, 8), (26, 3, 3, 6), (27, 1, 1, 4), (28, 1, 13, 2), (29, 2, 8, 3), (30, 4, 2, 1), (31, 3, 8, 2), (32, 2, 2, 4), (33, 3, 2, 1), (34, 4, 5, 2), (35, 5, 13, 2), (36, 5, 2, 7), (37, 2, 5, 4), (38, 4, 1, 5), (39, 1, 1, 3), (40, 1, 8, 2), (41, 3, 3, 6), (42, 2, 5, 1), (43, 5, 2, 4), (44, 2, 3, 5), (45, 5, 5, 2), (46, 3, 2, 4), (47, 2, 1, 3), (48, 2, 8, 1), (49, 5, 5, 5), (50, 1, 2, 3)]\n"
     ]
    }
   ],
   "source": [
    "mycursor.execute(\"select * from tasks\")\n",
    "result = mycursor.fetchall()\n",
    "print(\"Tasks table:\")\n",
    "print(result)"
   ]
  },
  {
   "cell_type": "code",
   "execution_count": 17,
   "outputs": [
    {
     "name": "stdout",
     "output_type": "stream",
     "text": [
      "Employees table:\n",
      "[(1, 'Catarina', 1), (2, 'Maria', 2), (3, 'João', 3), (4, 'Renato', 4), (5, 'Marcelo', 5)]\n"
     ]
    }
   ],
   "source": [
    "mycursor.execute(\"select * from employees\")\n",
    "result = mycursor.fetchall()\n",
    "print(\"Employees table:\")\n",
    "print(result)"
   ],
   "metadata": {
    "collapsed": false,
    "ExecuteTime": {
     "end_time": "2023-06-15T21:46:59.103864500Z",
     "start_time": "2023-06-15T21:46:59.078868400Z"
    }
   }
  }
 ],
 "metadata": {
  "kernelspec": {
   "display_name": "Python 3 (ipykernel)",
   "language": "python",
   "name": "python3"
  },
  "language_info": {
   "codemirror_mode": {
    "name": "ipython",
    "version": 3
   },
   "file_extension": ".py",
   "mimetype": "text/x-python",
   "name": "python",
   "nbconvert_exporter": "python",
   "pygments_lexer": "ipython3",
   "version": "3.10.9"
  }
 },
 "nbformat": 4,
 "nbformat_minor": 5
}
