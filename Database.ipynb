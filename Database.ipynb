{
 "cells": [
  {
   "cell_type": "markdown",
   "id": "4f1a737c",
   "metadata": {},
   "source": [
    "# Database"
   ]
  },
  {
   "cell_type": "markdown",
   "id": "bb905d20",
   "metadata": {},
   "source": [
    "## Libraries and Imports"
   ]
  },
  {
   "cell_type": "code",
   "execution_count": 4,
   "id": "0d06de51",
   "metadata": {
    "ExecuteTime": {
     "end_time": "2023-06-01T19:23:45.553140200Z",
     "start_time": "2023-06-01T19:23:45.541925600Z"
    }
   },
   "outputs": [],
   "source": [
    "#!pip install mysql-connector-python"
   ]
  },
  {
   "cell_type": "code",
   "execution_count": 5,
   "id": "2580e7e6",
   "metadata": {
    "ExecuteTime": {
     "end_time": "2023-06-01T19:23:46.207597400Z",
     "start_time": "2023-06-01T19:23:45.903279900Z"
    }
   },
   "outputs": [],
   "source": [
    "import mysql.connector\n",
    "from getpass import getpass\n",
    "from mysql.connector import connect, Error"
   ]
  },
  {
   "cell_type": "markdown",
   "id": "859a237f",
   "metadata": {},
   "source": [
    "### Database Creation"
   ]
  },
  {
   "cell_type": "code",
   "execution_count": 10,
   "id": "9c653406",
   "metadata": {
    "ExecuteTime": {
     "end_time": "2023-06-01T19:27:51.594809500Z",
     "start_time": "2023-06-01T19:27:47.831160600Z"
    }
   },
   "outputs": [
    {
     "name": "stdout",
     "output_type": "stream",
     "text": [
      "<mysql.connector.connection_cext.CMySQLConnection object at 0x00000234E4999CA0>\n"
     ]
    }
   ],
   "source": [
    "# Establishes a connection to the MySQL database.\n",
    "try:\n",
    "    with connect(\n",
    "        host=\"localhost\",\n",
    "        user=input(\"Enter username: \"),\n",
    "        password=getpass(\"Enter password: \"),\n",
    "        autocommit=True,\n",
    "    ) as connection:\n",
    "        print(connection)\n",
    "except Error as e:\n",
    "    print(e)"
   ]
  },
  {
   "cell_type": "code",
   "execution_count": 11,
   "id": "07edbe46",
   "metadata": {
    "ExecuteTime": {
     "end_time": "2023-06-01T19:27:53.809211800Z",
     "start_time": "2023-06-01T19:27:53.784111Z"
    }
   },
   "outputs": [],
   "source": [
    "# Makes the connection to the MySQL database.\n",
    "connection.connect()"
   ]
  },
  {
   "cell_type": "code",
   "execution_count": 27,
   "id": "275e2ef3",
   "metadata": {
    "ExecuteTime": {
     "end_time": "2023-06-01T19:32:25.110851100Z",
     "start_time": "2023-06-01T19:32:25.099051900Z"
    }
   },
   "outputs": [],
   "source": [
    "# Created a cursor to execute SQL commands.\n",
    "mycursor = connection.cursor(buffered=True)\n",
    "\n",
    "# This line should be uncommented the first time the notebook is run, to create the database.\n",
    "# mycursor.execute(\"create database challenge4\")\n",
    "mycursor.execute(\"use challenge4\")"
   ]
  },
  {
   "cell_type": "code",
   "execution_count": 32,
   "id": "eb992796",
   "metadata": {
    "ExecuteTime": {
     "end_time": "2023-06-01T19:34:14.158394200Z",
     "start_time": "2023-06-01T19:34:14.120766Z"
    }
   },
   "outputs": [],
   "source": [
    "# Creating the tasks table.\n",
    "create_tasks_table_query = \"\"\"\n",
    "create table tasks(\n",
    "    taskID INT AUTO_INCREMENT PRIMARY KEY, -- TaskID\n",
    "    priority INT, -- Priority of the task - Number between 1 (lower priority) and 5 (higher priority)\n",
    "    difficulty INT, -- Difficulty of the task - Fibonacci Sequence (1, 2, 3, 5, 8, 13)\n",
    "    time INT, -- Time to conclude the task\n",
    "    constraint priority CHECK (priority BETWEEN 1 AND 5),\n",
    "    constraint difficulty CHECK (difficulty IN (1, 2, 3, 5, 8, 13))\n",
    ")\n",
    "\"\"\"\n",
    "mycursor.execute(create_tasks_table_query)"
   ]
  },
  {
   "cell_type": "code",
   "execution_count": 33,
   "outputs": [],
   "source": [
    "# Creating the employees table.\n",
    "create_employees_table_query = \"\"\"\n",
    "create table employees(\n",
    "    id INT AUTO_INCREMENT PRIMARY KEY, -- EmployeeID\n",
    "    name VARCHAR(255), -- Name of the employee\n",
    "    task_id INT, -- The task the employee is performing\n",
    "    FOREIGN KEY (id) REFERENCES tasks (taskID)\n",
    ")\n",
    "\"\"\"\n",
    "mycursor.execute(create_employees_table_query)"
   ],
   "metadata": {
    "collapsed": false,
    "ExecuteTime": {
     "end_time": "2023-06-01T19:34:15.065898900Z",
     "start_time": "2023-06-01T19:34:15.026617900Z"
    }
   }
  },
  {
   "cell_type": "code",
   "execution_count": 34,
   "id": "aa45aff9",
   "metadata": {
    "ExecuteTime": {
     "end_time": "2023-06-01T19:34:39.921637700Z",
     "start_time": "2023-06-01T19:34:39.888699800Z"
    }
   },
   "outputs": [],
   "source": [
    "populate_tasks_table_query = \"\"\"\n",
    "insert into tasks (priority, difficulty, time)\n",
    "values \n",
    "\t(2, 1, 2),\n",
    "    (1, 5, 6),\n",
    "    (4, 1, 1),\n",
    "    (5, 13, 2),\n",
    "    (3, 3, 3),\n",
    "    (1, 1, 1),\n",
    "    (3, 2, 4),\n",
    "    (2, 1, 3),\n",
    "    (1, 8, 5),\n",
    "    (2, 3, 7),\n",
    "    (4, 8, 8),\n",
    "    (1, 3, 2),\n",
    "    (3, 5, 2),\n",
    "    (1, 1, 1),\n",
    "    (1, 13, 1),\n",
    "    (4, 8, 6),\n",
    "    (3, 5, 3),\n",
    "    (5, 2, 2),\n",
    "    (5, 3, 4),\n",
    "    (1, 1, 5),\n",
    "    (2, 2, 7),\n",
    "    (4, 5, 8),\n",
    "    (3, 5, 2),\n",
    "    (1, 3, 5),\n",
    "    (1, 5, 8), \n",
    "    (3, 3, 6),\n",
    "    (1, 1, 4),\n",
    "    (1, 13, 2),\n",
    "    (2, 8, 3),\n",
    "    (4, 2, 1),\n",
    "    (3, 8, 2),\n",
    "    (2, 2, 4),\n",
    "    (3, 2, 1),\n",
    "    (4, 5, 2),\n",
    "    (5, 13, 2),\n",
    "    (5, 2, 7),\n",
    "    (2, 5, 4),\n",
    "    (4, 1, 5),\n",
    "    (1, 1, 3),\n",
    "    (1, 8, 2),\n",
    "    (3, 3, 6),\n",
    "    (2, 5, 1),\n",
    "    (5, 2, 4),\n",
    "    (2, 3, 5),\n",
    "    (5, 5, 2),\n",
    "    (3, 2, 4),\n",
    "    (2, 1, 3),\n",
    "    (2, 8, 1),\n",
    "    (5, 5, 5),\n",
    "    (1, 2, 3)\"\"\"\n",
    "mycursor.execute(populate_tasks_table_query)"
   ]
  },
  {
   "cell_type": "code",
   "execution_count": 39,
   "outputs": [],
   "source": [
    "populate_employee_table_query = \"\"\"\n",
    "insert into employees (name, task_id)\n",
    "values\n",
    "\t(\"Catarina\", 1),\n",
    "    (\"Maria\", 2),\n",
    "    (\"João\", 3),\n",
    "    (\"Renato\", 4),\n",
    "    (\"Marcelo\", 5)\n",
    "\"\"\"\n",
    "mycursor.execute(populate_employee_table_query)"
   ],
   "metadata": {
    "collapsed": false,
    "ExecuteTime": {
     "end_time": "2023-06-01T19:35:23.683258Z",
     "start_time": "2023-06-01T19:35:23.653303200Z"
    }
   }
  },
  {
   "cell_type": "code",
   "execution_count": 40,
   "id": "5f4a17e4",
   "metadata": {
    "ExecuteTime": {
     "end_time": "2023-06-01T19:35:24.241280900Z",
     "start_time": "2023-06-01T19:35:24.232877600Z"
    }
   },
   "outputs": [
    {
     "name": "stdout",
     "output_type": "stream",
     "text": [
      "Tasks table:\n",
      "[(1, 2, 1, 2), (2, 1, 5, 6), (3, 4, 1, 1), (4, 5, 13, 2), (5, 3, 3, 3), (6, 1, 1, 1), (7, 3, 2, 4), (8, 2, 1, 3), (9, 1, 8, 5), (10, 2, 3, 7), (11, 4, 8, 8), (12, 1, 3, 2), (13, 3, 5, 2), (14, 1, 1, 1), (15, 1, 13, 1), (16, 4, 8, 6), (17, 3, 5, 3), (18, 5, 2, 2), (19, 5, 3, 4), (20, 1, 1, 5), (21, 2, 2, 7), (22, 4, 5, 8), (23, 3, 5, 2), (24, 1, 3, 5), (25, 1, 5, 8), (26, 3, 3, 6), (27, 1, 1, 4), (28, 1, 13, 2), (29, 2, 8, 3), (30, 4, 2, 1), (31, 3, 8, 2), (32, 2, 2, 4), (33, 3, 2, 1), (34, 4, 5, 2), (35, 5, 13, 2), (36, 5, 2, 7), (37, 2, 5, 4), (38, 4, 1, 5), (39, 1, 1, 3), (40, 1, 8, 2), (41, 3, 3, 6), (42, 2, 5, 1), (43, 5, 2, 4), (44, 2, 3, 5), (45, 5, 5, 2), (46, 3, 2, 4), (47, 2, 1, 3), (48, 2, 8, 1), (49, 5, 5, 5), (50, 1, 2, 3), (51, 2, 1, 2), (52, 1, 5, 6), (53, 4, 1, 1), (54, 5, 13, 2), (55, 3, 3, 3), (56, 1, 1, 1), (57, 3, 2, 4), (58, 2, 1, 3), (59, 1, 8, 5), (60, 2, 3, 7), (61, 4, 8, 8), (62, 1, 3, 2), (63, 3, 5, 2), (64, 1, 1, 1), (65, 1, 13, 1), (66, 4, 8, 6), (67, 3, 5, 3), (68, 5, 2, 2), (69, 5, 3, 4), (70, 1, 1, 5), (71, 2, 2, 7), (72, 4, 5, 8), (73, 3, 5, 2), (74, 1, 3, 5), (75, 1, 5, 8), (76, 3, 3, 6), (77, 1, 1, 4), (78, 1, 13, 2), (79, 2, 8, 3), (80, 4, 2, 1), (81, 3, 8, 2), (82, 2, 2, 4), (83, 3, 2, 1), (84, 4, 5, 2), (85, 5, 13, 2), (86, 5, 2, 7), (87, 2, 5, 4), (88, 4, 1, 5), (89, 1, 1, 3), (90, 1, 8, 2), (91, 3, 3, 6), (92, 2, 5, 1), (93, 5, 2, 4), (94, 2, 3, 5), (95, 5, 5, 2), (96, 3, 2, 4), (97, 2, 1, 3), (98, 2, 8, 1), (99, 5, 5, 5), (100, 1, 2, 3), (101, 2, 1, 2), (102, 1, 5, 6), (103, 4, 1, 1), (104, 5, 13, 2), (105, 3, 3, 3), (106, 1, 1, 1), (107, 3, 2, 4), (108, 2, 1, 3), (109, 1, 8, 5), (110, 2, 3, 7), (111, 4, 8, 8), (112, 1, 3, 2), (113, 3, 5, 2), (114, 1, 1, 1), (115, 1, 13, 1), (116, 4, 8, 6), (117, 3, 5, 3), (118, 5, 2, 2), (119, 5, 3, 4), (120, 1, 1, 5), (121, 2, 2, 7), (122, 4, 5, 8), (123, 3, 5, 2), (124, 1, 3, 5), (125, 1, 5, 8), (126, 3, 3, 6), (127, 1, 1, 4), (128, 1, 13, 2), (129, 2, 8, 3), (130, 4, 2, 1), (131, 3, 8, 2), (132, 2, 2, 4), (133, 3, 2, 1), (134, 4, 5, 2), (135, 5, 13, 2), (136, 5, 2, 7), (137, 2, 5, 4), (138, 4, 1, 5), (139, 1, 1, 3), (140, 1, 8, 2), (141, 3, 3, 6), (142, 2, 5, 1), (143, 5, 2, 4), (144, 2, 3, 5), (145, 5, 5, 2), (146, 3, 2, 4), (147, 2, 1, 3), (148, 2, 8, 1), (149, 5, 5, 5), (150, 1, 2, 3)]\n"
     ]
    }
   ],
   "source": [
    "mycursor.execute(\"select * from tasks\")\n",
    "result = mycursor.fetchall()\n",
    "print(\"Tasks table:\")\n",
    "print(result)"
   ]
  },
  {
   "cell_type": "code",
   "execution_count": 41,
   "outputs": [
    {
     "name": "stdout",
     "output_type": "stream",
     "text": [
      "Employees table:\n",
      "[(1, 'Catarina', 1), (2, 'Maria', 2), (3, 'João', 3), (4, 'Renato', 4), (5, 'Marcelo', 5)]\n"
     ]
    }
   ],
   "source": [
    "mycursor.execute(\"select * from employees\")\n",
    "result = mycursor.fetchall()\n",
    "print(\"Employees table:\")\n",
    "print(result)"
   ],
   "metadata": {
    "collapsed": false,
    "ExecuteTime": {
     "end_time": "2023-06-01T19:35:25.427599200Z",
     "start_time": "2023-06-01T19:35:25.417623500Z"
    }
   }
  },
  {
   "cell_type": "code",
   "execution_count": 28,
   "id": "dfc9344f",
   "metadata": {
    "ExecuteTime": {
     "end_time": "2023-05-30T21:41:41.590174500Z",
     "start_time": "2023-05-30T21:41:41.572192Z"
    }
   },
   "outputs": [],
   "source": []
  }
 ],
 "metadata": {
  "kernelspec": {
   "display_name": "Python 3 (ipykernel)",
   "language": "python",
   "name": "python3"
  },
  "language_info": {
   "codemirror_mode": {
    "name": "ipython",
    "version": 3
   },
   "file_extension": ".py",
   "mimetype": "text/x-python",
   "name": "python",
   "nbconvert_exporter": "python",
   "pygments_lexer": "ipython3",
   "version": "3.10.9"
  }
 },
 "nbformat": 4,
 "nbformat_minor": 5
}
