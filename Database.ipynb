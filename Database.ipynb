{
 "cells": [
  {
   "cell_type": "code",
   "execution_count": null,
   "id": "cbf9a747",
   "metadata": {},
   "outputs": [],
   "source": [
    "#!pip install mysql-connector-python"
   ]
  },
  {
   "cell_type": "code",
   "execution_count": 1,
   "id": "2580e7e6",
   "metadata": {},
   "outputs": [],
   "source": [
    "import mysql.connector"
   ]
  },
  {
   "cell_type": "code",
   "execution_count": 2,
   "id": "9c653406",
   "metadata": {},
   "outputs": [
    {
     "name": "stdout",
     "output_type": "stream",
     "text": [
      "Enter username: root\n",
      "Enter password: ········\n",
      "<mysql.connector.connection_cext.CMySQLConnection object at 0x10808abf0>\n"
     ]
    }
   ],
   "source": [
    "from getpass import getpass\n",
    "from mysql.connector import connect, Error\n",
    "\n",
    "try:\n",
    "    with connect(\n",
    "        host=\"localhost\",\n",
    "        user=input(\"Enter username: \"),\n",
    "        password=getpass(\"Enter password: \"),\n",
    "    ) as connection:\n",
    "        print(connection)\n",
    "except Error as e:\n",
    "    print(e)"
   ]
  },
  {
   "cell_type": "code",
   "execution_count": 3,
   "id": "07edbe46",
   "metadata": {},
   "outputs": [],
   "source": [
    "connection.connect()"
   ]
  },
  {
   "cell_type": "code",
   "execution_count": 4,
   "id": "275e2ef3",
   "metadata": {},
   "outputs": [],
   "source": [
    "mycursor = connection.cursor(buffered=True)\n",
    "\n",
    "#mycursor.execute(\"create database challenge4\")\n",
    "mycursor.execute(\"use challenge4\")"
   ]
  },
  {
   "cell_type": "code",
   "execution_count": 5,
   "id": "eb992796",
   "metadata": {},
   "outputs": [],
   "source": [
    "# creating tasks table\n",
    "create_tasks_table_query = \"\"\"\n",
    "create table tasks(\n",
    "    taskID INT AUTO_INCREMENT PRIMARY KEY, -- TaskID\n",
    "    priority INT, -- Priority of the task - Number between 1 (higher priority) and 5 (lower priority)\n",
    "    difficulty INT, -- Difficulty of the task - Number between 1 (lower difficulty) and 5 (higher difficulty)\n",
    "    time INT, -- Time to conclude the task\n",
    "    constraint priority CHECK (priority BETWEEN 1 AND 5),\n",
    "    constraint difficulty CHECK (difficulty BETWEEN 1 AND 5)\n",
    ")\n",
    "\"\"\"\n",
    "mycursor.execute(create_tasks_table_query)"
   ]
  },
  {
   "cell_type": "code",
   "execution_count": 7,
   "id": "aa45aff9",
   "metadata": {},
   "outputs": [],
   "source": [
    "populate_tasks_table_query = \"\"\"\n",
    "insert into tasks (priority, difficulty, time)\n",
    "values \n",
    "\t(2, 1, 2),\n",
    "    (1, 4, 6),\n",
    "    (4, 1, 1),\n",
    "    (5, 5, 2),\n",
    "    (3, 3, 3),\n",
    "    (1, 1, 1),\n",
    "    (3, 2, 4),\n",
    "    (2, 1, 3),\n",
    "    (1, 5, 5),\n",
    "    (2, 4, 7),\n",
    "    (4, 4, 8),\n",
    "    (1, 3, 2),\n",
    "    (3, 3, 2),\n",
    "    (1, 1, 1),\n",
    "    (1, 5, 1),\n",
    "    (4, 5, 6),\n",
    "    (3, 4, 3),\n",
    "    (5, 2, 2),\n",
    "    (5, 3, 4),\n",
    "    (1, 1, 5),\n",
    "    (2, 2, 7),\n",
    "    (4, 5, 8),\n",
    "    (3, 5, 2),\n",
    "    (1, 3, 5),\n",
    "    (1, 5, 8), \n",
    "    (3, 3, 6),\n",
    "    (1, 1, 4),\n",
    "    (1, 4, 2),\n",
    "    (2, 4, 3),\n",
    "    (4, 2, 1),\n",
    "    (3, 4, 2),\n",
    "    (2, 2, 4),\n",
    "    (3, 2, 1),\n",
    "    (4, 5, 2),\n",
    "    (5, 4, 2),\n",
    "    (5, 2, 7),\n",
    "    (2, 5, 4),\n",
    "    (4, 1, 5),\n",
    "    (1, 1, 3),\n",
    "    (1, 4, 2),\n",
    "    (3, 3, 6),\n",
    "    (2, 5, 1),\n",
    "    (5, 2, 4),\n",
    "    (2, 3, 5),\n",
    "    (5, 5, 2),\n",
    "    (3, 2, 4),\n",
    "    (2, 1, 3),\n",
    "    (2, 4, 1),\n",
    "    (5, 5, 5),\n",
    "    (1, 2, 3)\"\"\"\n",
    "mycursor.execute(populate_tasks_table_query)"
   ]
  },
  {
   "cell_type": "code",
   "execution_count": 8,
   "id": "5f4a17e4",
   "metadata": {},
   "outputs": [
    {
     "name": "stdout",
     "output_type": "stream",
     "text": [
      "Tasks table:\n",
      "[(1, 2, 1, 2), (2, 1, 4, 6), (3, 4, 1, 1), (4, 5, 5, 2), (5, 3, 3, 3), (6, 1, 1, 1), (7, 3, 2, 4), (8, 2, 1, 3), (9, 1, 5, 5), (10, 2, 4, 7), (11, 4, 4, 8), (12, 1, 3, 2), (13, 3, 3, 2), (14, 1, 1, 1), (15, 1, 5, 1), (16, 4, 5, 6), (17, 3, 4, 3), (18, 5, 2, 2), (19, 5, 3, 4), (20, 1, 1, 5), (21, 2, 2, 7), (22, 4, 5, 8), (23, 3, 5, 2), (24, 1, 3, 5), (25, 1, 5, 8), (26, 3, 3, 6), (27, 1, 1, 4), (28, 1, 4, 2), (29, 2, 4, 3), (30, 4, 2, 1), (31, 3, 4, 2), (32, 2, 2, 4), (33, 3, 2, 1), (34, 4, 5, 2), (35, 5, 4, 2), (36, 5, 2, 7), (37, 2, 5, 4), (38, 4, 1, 5), (39, 1, 1, 3), (40, 1, 4, 2), (41, 3, 3, 6), (42, 2, 5, 1), (43, 5, 2, 4), (44, 2, 3, 5), (45, 5, 5, 2), (46, 3, 2, 4), (47, 2, 1, 3), (48, 2, 4, 1), (49, 5, 5, 5), (50, 1, 2, 3)]\n"
     ]
    }
   ],
   "source": [
    "mycursor.execute(\"select * from tasks\")\n",
    "result = mycursor.fetchall()\n",
    "print(\"Tasks table:\")\n",
    "print(result)"
   ]
  },
  {
   "cell_type": "code",
   "execution_count": null,
   "id": "dfc9344f",
   "metadata": {},
   "outputs": [],
   "source": []
  }
 ],
 "metadata": {
  "kernelspec": {
   "display_name": "Python 3 (ipykernel)",
   "language": "python",
   "name": "python3"
  },
  "language_info": {
   "codemirror_mode": {
    "name": "ipython",
    "version": 3
   },
   "file_extension": ".py",
   "mimetype": "text/x-python",
   "name": "python",
   "nbconvert_exporter": "python",
   "pygments_lexer": "ipython3",
   "version": "3.10.9"
  }
 },
 "nbformat": 4,
 "nbformat_minor": 5
}
