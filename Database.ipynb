{
 "cells": [
  {
   "cell_type": "markdown",
   "source": [
    "# Database"
   ],
   "metadata": {
    "collapsed": false
   }
  },
  {
   "cell_type": "markdown",
   "source": [
    "## Libraries and Imports"
   ],
   "metadata": {
    "collapsed": false
   }
  },
  {
   "cell_type": "code",
   "execution_count": 6,
   "outputs": [],
   "source": [
    "#!pip install mysql-connector-python"
   ],
   "metadata": {
    "collapsed": false,
    "ExecuteTime": {
     "end_time": "2023-05-31T21:40:03.729506700Z",
     "start_time": "2023-05-31T21:40:03.719977900Z"
    }
   }
  },
  {
   "cell_type": "code",
   "execution_count": 7,
   "id": "2580e7e6",
   "metadata": {
    "ExecuteTime": {
     "end_time": "2023-05-31T21:40:03.965548200Z",
     "start_time": "2023-05-31T21:40:03.942967200Z"
    }
   },
   "outputs": [],
   "source": [
    "import mysql.connector\n",
    "from getpass import getpass\n",
    "from mysql.connector import connect, Error"
   ]
  },
  {
   "cell_type": "markdown",
   "source": [
    "### Database Creation"
   ],
   "metadata": {
    "collapsed": false
   }
  },
  {
   "cell_type": "code",
   "execution_count": 8,
   "id": "9c653406",
   "metadata": {
    "ExecuteTime": {
     "end_time": "2023-05-31T21:40:09.564818700Z",
     "start_time": "2023-05-31T21:40:04.581193600Z"
    }
   },
   "outputs": [
    {
     "name": "stdout",
     "output_type": "stream",
     "text": [
      "<mysql.connector.connection_cext.CMySQLConnection object at 0x000002038B7371F0>\n"
     ]
    }
   ],
   "source": [
    "# Establishes a connection to the MySQL database.\n",
    "try:\n",
    "    with connect(\n",
    "        host=\"localhost\",\n",
    "        user=input(\"Enter username: \"),\n",
    "        password=getpass(\"Enter password: \"),\n",
    "        autocommit=True,\n",
    "    ) as connection:\n",
    "        print(connection)\n",
    "except Error as e:\n",
    "    print(e)"
   ]
  },
  {
   "cell_type": "code",
   "execution_count": 9,
   "id": "07edbe46",
   "metadata": {
    "ExecuteTime": {
     "end_time": "2023-05-31T21:40:12.312566700Z",
     "start_time": "2023-05-31T21:40:12.302291600Z"
    }
   },
   "outputs": [],
   "source": [
    "# Makes the connection to the MySQL database.\n",
    "connection.connect()"
   ]
  },
  {
   "cell_type": "code",
   "execution_count": 42,
   "id": "275e2ef3",
   "metadata": {
    "ExecuteTime": {
     "end_time": "2023-05-30T21:45:08.410158700Z",
     "start_time": "2023-05-30T21:45:08.381461Z"
    }
   },
   "outputs": [],
   "source": [
    "# Created a cursor to execute SQL commands.\n",
    "mycursor = connection.cursor(buffered=True)\n",
    "\n",
    "# This line should be uncommented the first time the notebook is run, to create the database.\n",
    "# mycursor.execute(\"create database challenge4\")\n",
    "mycursor.execute(\"use challenge4\")"
   ]
  },
  {
   "cell_type": "code",
   "execution_count": 43,
   "id": "eb992796",
   "metadata": {
    "ExecuteTime": {
     "end_time": "2023-05-30T21:45:09.164840800Z",
     "start_time": "2023-05-30T21:45:09.122414900Z"
    }
   },
   "outputs": [],
   "source": [
    "# Creating the tasks table.\n",
    "create_tasks_table_query = \"\"\"\n",
    "create table tasks(\n",
    "    taskID INT AUTO_INCREMENT PRIMARY KEY, -- TaskID\n",
    "    priority INT, -- Priority of the task - Number between 1 (higher priority) and 5 (lower priority)\n",
    "    difficulty INT, -- Difficulty of the task - Number between 1 (lower difficulty) and 5 (higher difficulty)\n",
    "    time INT, -- Time to conclude the task\n",
    "    constraint priority CHECK (priority BETWEEN 1 AND 5),\n",
    "    constraint difficulty CHECK (difficulty BETWEEN 1 AND 5)\n",
    ")\n",
    "\"\"\"\n",
    "mycursor.execute(create_tasks_table_query)"
   ]
  },
  {
   "cell_type": "code",
   "execution_count": 44,
   "id": "aa45aff9",
   "metadata": {
    "ExecuteTime": {
     "end_time": "2023-05-30T21:45:10.038116200Z",
     "start_time": "2023-05-30T21:45:10.021160900Z"
    }
   },
   "outputs": [],
   "source": [
    "populate_tasks_table_query = \"\"\"\n",
    "insert into tasks (priority, difficulty, time)\n",
    "values \n",
    "\t(2, 1, 2),\n",
    "    (1, 4, 6),\n",
    "    (4, 1, 1),\n",
    "    (5, 5, 2),\n",
    "    (3, 3, 3),\n",
    "    (1, 1, 1),\n",
    "    (3, 2, 4),\n",
    "    (2, 1, 3),\n",
    "    (1, 5, 5),\n",
    "    (2, 4, 7),\n",
    "    (4, 4, 8),\n",
    "    (1, 3, 2),\n",
    "    (3, 3, 2),\n",
    "    (1, 1, 1),\n",
    "    (1, 5, 1),\n",
    "    (4, 5, 6),\n",
    "    (3, 4, 3),\n",
    "    (5, 2, 2),\n",
    "    (5, 3, 4),\n",
    "    (1, 1, 5),\n",
    "    (2, 2, 7),\n",
    "    (4, 5, 8),\n",
    "    (3, 5, 2),\n",
    "    (1, 3, 5),\n",
    "    (1, 5, 8), \n",
    "    (3, 3, 6),\n",
    "    (1, 1, 4),\n",
    "    (1, 4, 2),\n",
    "    (2, 4, 3),\n",
    "    (4, 2, 1),\n",
    "    (3, 4, 2),\n",
    "    (2, 2, 4),\n",
    "    (3, 2, 1),\n",
    "    (4, 5, 2),\n",
    "    (5, 4, 2),\n",
    "    (5, 2, 7),\n",
    "    (2, 5, 4),\n",
    "    (4, 1, 5),\n",
    "    (1, 1, 3),\n",
    "    (1, 4, 2),\n",
    "    (3, 3, 6),\n",
    "    (2, 5, 1),\n",
    "    (5, 2, 4),\n",
    "    (2, 3, 5),\n",
    "    (5, 5, 2),\n",
    "    (3, 2, 4),\n",
    "    (2, 1, 3),\n",
    "    (2, 4, 1),\n",
    "    (5, 5, 5),\n",
    "    (1, 2, 3)\"\"\"\n",
    "mycursor.execute(populate_tasks_table_query)"
   ]
  },
  {
   "cell_type": "code",
   "execution_count": 45,
   "id": "5f4a17e4",
   "metadata": {
    "ExecuteTime": {
     "end_time": "2023-05-30T21:45:10.502807200Z",
     "start_time": "2023-05-30T21:45:10.480867500Z"
    }
   },
   "outputs": [
    {
     "name": "stdout",
     "output_type": "stream",
     "text": [
      "Tasks table:\n",
      "[(1, 2, 1, 2), (2, 1, 4, 6), (3, 4, 1, 1), (4, 5, 5, 2), (5, 3, 3, 3), (6, 1, 1, 1), (7, 3, 2, 4), (8, 2, 1, 3), (9, 1, 5, 5), (10, 2, 4, 7), (11, 4, 4, 8), (12, 1, 3, 2), (13, 3, 3, 2), (14, 1, 1, 1), (15, 1, 5, 1), (16, 4, 5, 6), (17, 3, 4, 3), (18, 5, 2, 2), (19, 5, 3, 4), (20, 1, 1, 5), (21, 2, 2, 7), (22, 4, 5, 8), (23, 3, 5, 2), (24, 1, 3, 5), (25, 1, 5, 8), (26, 3, 3, 6), (27, 1, 1, 4), (28, 1, 4, 2), (29, 2, 4, 3), (30, 4, 2, 1), (31, 3, 4, 2), (32, 2, 2, 4), (33, 3, 2, 1), (34, 4, 5, 2), (35, 5, 4, 2), (36, 5, 2, 7), (37, 2, 5, 4), (38, 4, 1, 5), (39, 1, 1, 3), (40, 1, 4, 2), (41, 3, 3, 6), (42, 2, 5, 1), (43, 5, 2, 4), (44, 2, 3, 5), (45, 5, 5, 2), (46, 3, 2, 4), (47, 2, 1, 3), (48, 2, 4, 1), (49, 5, 5, 5), (50, 1, 2, 3)]\n"
     ]
    }
   ],
   "source": [
    "mycursor.execute(\"select * from tasks\")\n",
    "result = mycursor.fetchall()\n",
    "print(\"Tasks table:\")\n",
    "print(result)"
   ]
  },
  {
   "cell_type": "code",
   "execution_count": 28,
   "id": "dfc9344f",
   "metadata": {
    "ExecuteTime": {
     "end_time": "2023-05-30T21:41:41.590174500Z",
     "start_time": "2023-05-30T21:41:41.572192Z"
    }
   },
   "outputs": [],
   "source": []
  }
 ],
 "metadata": {
  "kernelspec": {
   "display_name": "Python 3 (ipykernel)",
   "language": "python",
   "name": "python3"
  },
  "language_info": {
   "codemirror_mode": {
    "name": "ipython",
    "version": 3
   },
   "file_extension": ".py",
   "mimetype": "text/x-python",
   "name": "python",
   "nbconvert_exporter": "python",
   "pygments_lexer": "ipython3",
   "version": "3.10.9"
  }
 },
 "nbformat": 4,
 "nbformat_minor": 5
}
